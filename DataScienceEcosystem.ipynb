{
 "cells": [
  {
   "cell_type": "markdown",
   "id": "422aee48-6c94-40cd-bf8b-f16a60fd62ed",
   "metadata": {},
   "source": [
    "# Data Science Tools and Ecosystem"
   ]
  },
  {
   "cell_type": "markdown",
   "id": "35199774-f665-425c-b01b-f6f930ed4308",
   "metadata": {},
   "source": [
    "The purpose of this notebook is to summarise Data Science Tools and the Ecosystem in which they operate"
   ]
  },
  {
   "cell_type": "markdown",
   "id": "9f6c56a6-94d4-4a1a-96f5-b5de63d3feb2",
   "metadata": {},
   "source": [
    "**Objectives:** \n",
    "\n",
    "- List popular languages for data science\n",
    "- List popular libraries for Data scientists\n",
    " - Create a table indicating three open source development tools\n",
    "- Create code cells to evaluate simple arithmetic expressions\n",
    "- Create different levels of headings"
   ]
  },
  {
   "cell_type": "markdown",
   "id": "6ccbb86c-ce4a-4391-90e0-62ebe84715f0",
   "metadata": {},
   "source": [
    "Some of popular languages that Data Scientists use are:\n",
    "1. Python\n",
    "2. R\n",
    "3. C++\n",
    "4. Java\n",
    "5. Scala\n",
    "6. Julia"
   ]
  },
  {
   "cell_type": "markdown",
   "id": "9e95daf0-0f45-4086-88e6-a77f121833e0",
   "metadata": {},
   "source": [
    "Some of the commonly used libraries used by Data Scientists include:\n",
    "\n",
    "1. Pandas\n",
    "2. Numpy\n",
    "3. Matplotlab\n",
    "4. Scikit\n",
    "5. Keras\n",
    "6. Tensorflow\n",
    "7. Pytorch\n",
    "8. Scala Libraries"
   ]
  },
  {
   "cell_type": "markdown",
   "id": "a3d33bb3-5365-4eb9-af72-5e567599b986",
   "metadata": {},
   "source": [
    "|Data Science Tools|\n",
    "|------------------|\n",
    "|RStudio|\n",
    "|PyCharm|\n",
    "|Spyder|\n",
    "\n",
    "\n"
   ]
  },
  {
   "cell_type": "markdown",
   "id": "f416a053-10b1-496e-9648-2fdf515ff8d2",
   "metadata": {},
   "source": [
    "### Below are a few examples of evaluating arithmetic expressions in Python"
   ]
  },
  {
   "cell_type": "code",
   "execution_count": 7,
   "id": "a3497beb-8650-4090-a108-ce57e1499daa",
   "metadata": {},
   "outputs": [
    {
     "data": {
      "text/plain": [
       "17"
      ]
     },
     "execution_count": 7,
     "metadata": {},
     "output_type": "execute_result"
    }
   ],
   "source": [
    "#This is a simple arithmetic expression to multiply then add integers\n",
    "(3*4)+5"
   ]
  },
  {
   "cell_type": "code",
   "execution_count": 8,
   "id": "af51e5ee-3045-4041-9141-ad3395b36727",
   "metadata": {},
   "outputs": [
    {
     "data": {
      "text/plain": [
       "3.3333333333333335"
      ]
     },
     "execution_count": 8,
     "metadata": {},
     "output_type": "execute_result"
    }
   ],
   "source": [
    "#This will convert 200 minutes to hours by dividing by 60\n",
    "200/60"
   ]
  },
  {
   "cell_type": "markdown",
   "id": "6064b19b-5533-40b6-b443-683e88e55925",
   "metadata": {},
   "source": [
    "## Author\n",
    "Amanda Chapman"
   ]
  }
 ],
 "metadata": {
  "kernelspec": {
   "display_name": "Python 3 (ipykernel)",
   "language": "python",
   "name": "python3"
  },
  "language_info": {
   "codemirror_mode": {
    "name": "ipython",
    "version": 3
   },
   "file_extension": ".py",
   "mimetype": "text/x-python",
   "name": "python",
   "nbconvert_exporter": "python",
   "pygments_lexer": "ipython3",
   "version": "3.11.9"
  }
 },
 "nbformat": 4,
 "nbformat_minor": 5
}
